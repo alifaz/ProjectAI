{
 "cells": [
  {
   "cell_type": "code",
   "execution_count": 2,
   "id": "255fe8fe-6a0a-466e-9894-2d4f231e19b7",
   "metadata": {},
   "outputs": [
    {
     "name": "stdout",
     "output_type": "stream",
     "text": [
      "Requirement already satisfied: imageio[ffmpeg] in /opt/conda/lib/python3.11/site-packages (2.35.1)\n",
      "Requirement already satisfied: numpy in /opt/conda/lib/python3.11/site-packages (from imageio[ffmpeg]) (2.0.2)\n",
      "Requirement already satisfied: pillow>=8.3.2 in /opt/conda/lib/python3.11/site-packages (from imageio[ffmpeg]) (10.4.0)\n",
      "Collecting imageio-ffmpeg (from imageio[ffmpeg])\n",
      "  Downloading imageio_ffmpeg-0.6.0-py3-none-manylinux2014_x86_64.whl.metadata (1.5 kB)\n",
      "Requirement already satisfied: psutil in /opt/conda/lib/python3.11/site-packages (from imageio[ffmpeg]) (6.0.0)\n",
      "Downloading imageio_ffmpeg-0.6.0-py3-none-manylinux2014_x86_64.whl (29.5 MB)\n",
      "\u001b[2K   \u001b[90m━━━━━━━━━━━━━━━━━━━━━━━━━━━━━━━━━━━━━━━━\u001b[0m \u001b[32m29.5/29.5 MB\u001b[0m \u001b[31m13.6 MB/s\u001b[0m eta \u001b[36m0:00:00\u001b[0m00:01\u001b[0m00:01\u001b[0m\n",
      "\u001b[?25hInstalling collected packages: imageio-ffmpeg\n",
      "Successfully installed imageio-ffmpeg-0.6.0\n",
      "Note: you may need to restart the kernel to use updated packages.\n"
     ]
    }
   ],
   "source": [
    "pip install imageio[ffmpeg]"
   ]
  },
  {
   "cell_type": "code",
   "execution_count": 3,
   "id": "bd530003-d411-47bd-b4f5-fd7ffee42b27",
   "metadata": {},
   "outputs": [
    {
     "name": "stdout",
     "output_type": "stream",
     "text": [
      "Original prompt: Tampilkan video dua ekor kucing sedang bermain di taman\n",
      "Translated prompt: Show videos of two cats playing in the park\n",
      "Loading model...\n"
     ]
    },
    {
     "data": {
      "application/vnd.jupyter.widget-view+json": {
       "model_id": "60dc500ff35542a0ab6f814f4b71ad43",
       "version_major": 2,
       "version_minor": 0
      },
      "text/plain": [
       "Loading pipeline components...:   0%|          | 0/5 [00:00<?, ?it/s]"
      ]
     },
     "metadata": {},
     "output_type": "display_data"
    },
    {
     "name": "stderr",
     "output_type": "stream",
     "text": [
      "The TextToVideoSDPipeline has been deprecated and will not receive bug fixes or feature updates after Diffusers version 0.33.1. \n"
     ]
    },
    {
     "name": "stdout",
     "output_type": "stream",
     "text": [
      "Generating video frames...\n"
     ]
    },
    {
     "data": {
      "application/vnd.jupyter.widget-view+json": {
       "model_id": "51abf710382b437191ba798b789a6407",
       "version_major": 2,
       "version_minor": 0
      },
      "text/plain": [
       "  0%|          | 0/25 [00:00<?, ?it/s]"
      ]
     },
     "metadata": {},
     "output_type": "display_data"
    },
    {
     "name": "stderr",
     "output_type": "stream",
     "text": [
      "Converting frames...: 100%|██████████| 1/1 [00:00<00:00, 16.49it/s]\n",
      "Resizing frames...: 100%|██████████| 48/48 [00:00<00:00, 8263.62it/s]\n"
     ]
    },
    {
     "name": "stdout",
     "output_type": "stream",
     "text": [
      "Saving MP4 to cats_playing.mp4...\n",
      "MP4 saved.\n",
      "Saving GIF to cats_playing.gif...\n",
      "GIF saved.\n",
      "MP4 saved at: /home/alif_ahmad/work/Script/cats_playing.mp4\n",
      "GIF saved at: /home/alif_ahmad/work/Script/cats_playing.gif\n"
     ]
    }
   ],
   "source": [
    "import torch\n",
    "from diffusers import DiffusionPipeline\n",
    "from PIL import Image\n",
    "from deep_translator import GoogleTranslator\n",
    "import numpy as np\n",
    "import imageio\n",
    "from tqdm import tqdm\n",
    "import os\n",
    "import gc\n",
    "\n",
    "def safe_image_list_from_array(arr):\n",
    "    arr = np.asarray(arr)\n",
    "    if arr.ndim == 4:\n",
    "        return [Image.fromarray(((frame * 255).clip(0, 255)).astype(np.uint8)) for frame in arr]\n",
    "    elif arr.ndim == 3:\n",
    "        return [Image.fromarray(((arr * 255).clip(0, 255)).astype(np.uint8))]\n",
    "    else:\n",
    "        raise ValueError(f\"Unsupported array shape: {arr.shape}\")\n",
    "\n",
    "def translate_prompt(prompt_text, fallback=\"Two cats playing in the park\"):\n",
    "    try:\n",
    "        return GoogleTranslator(source='auto', target='en').translate(prompt_text)\n",
    "    except Exception as e:\n",
    "        print(f\"[Translation Error] {e}\")\n",
    "        return fallback\n",
    "\n",
    "def resize_frames(frames):\n",
    "    first_frame = np.array(frames[0])\n",
    "    height, width, _ = first_frame.shape\n",
    "    return [frame.resize((width, height), Image.BICUBIC) for frame in tqdm(frames, desc=\"Resizing frames...\")]\n",
    "\n",
    "def save_mp4(frames, output_path, fps=8, bitrate=\"5M\"):\n",
    "    tqdm.write(f\"Saving MP4 to {output_path}...\")\n",
    "    imageio.mimsave(output_path, frames, fps=fps, codec='libx264', bitrate=bitrate)\n",
    "    tqdm.write(\"MP4 saved.\")\n",
    "\n",
    "def save_gif(frames, output_path, fps=8):\n",
    "    tqdm.write(f\"Saving GIF to {output_path}...\")\n",
    "    frames[0].save(\n",
    "        output_path,\n",
    "        save_all=True,\n",
    "        append_images=frames[1:],\n",
    "        duration=int(1000 / fps),  # milliseconds per frame\n",
    "        loop=0,\n",
    "        optimize=True\n",
    "    )\n",
    "    tqdm.write(\"GIF saved.\")\n",
    "\n",
    "def cleanup():\n",
    "    torch.cuda.empty_cache()\n",
    "    gc.collect()\n",
    "\n",
    "def main():\n",
    "    # --- Configurable parameters ---\n",
    "    prompt_id = \"Tampilkan video dua ekor kucing sedang bermain di taman\"\n",
    "    model_id = \"damo-vilab/text-to-video-ms-1.7b\"\n",
    "    mp4_output_path = \"cats_playing.mp4\"\n",
    "    gif_output_path = \"cats_playing.gif\"\n",
    "    fps = 8\n",
    "    num_frames = 48\n",
    "    guidance = 10.0\n",
    "    inference_steps = 25\n",
    "    bitrate = \"5M\"\n",
    "    # -------------------------------\n",
    "\n",
    "    print(f\"Original prompt: {prompt_id}\")\n",
    "    prompt = translate_prompt(prompt_id)\n",
    "    print(f\"Translated prompt: {prompt}\")\n",
    "\n",
    "    print(\"Loading model...\")\n",
    "    pipe = DiffusionPipeline.from_pretrained(model_id, torch_dtype=torch.float16, variant=\"fp16\").to(\"cuda\")\n",
    "    pipe.enable_model_cpu_offload()\n",
    "\n",
    "    print(\"Generating video frames...\")\n",
    "    result = pipe(prompt=prompt, num_inference_steps=inference_steps, num_frames=num_frames, guidance_scale=guidance)\n",
    "    video_frames = result[\"frames\"]\n",
    "\n",
    "    # Convert and standardize to RGB PIL images\n",
    "    frames_rgb = []\n",
    "    for frame in tqdm(video_frames, desc=\"Converting frames...\"):\n",
    "        if isinstance(frame, np.ndarray):\n",
    "            imgs = safe_image_list_from_array(frame)\n",
    "            frames_rgb.extend([img.convert(\"RGB\") for img in imgs])\n",
    "        else:\n",
    "            frames_rgb.append(frame.convert(\"RGB\"))\n",
    "\n",
    "    frames_resized = resize_frames(frames_rgb)\n",
    "\n",
    "    # Save as both MP4 and GIF\n",
    "    save_mp4(frames_resized, mp4_output_path, fps=fps, bitrate=bitrate)\n",
    "    save_gif(frames_resized, gif_output_path, fps=fps)\n",
    "\n",
    "    print(f\"MP4 saved at: {os.path.abspath(mp4_output_path)}\")\n",
    "    print(f\"GIF saved at: {os.path.abspath(gif_output_path)}\")\n",
    "\n",
    "    cleanup()\n",
    "\n",
    "if __name__ == \"__main__\":\n",
    "    main()\n"
   ]
  },
  {
   "cell_type": "code",
   "execution_count": null,
   "id": "5f417b04-dc0e-4a6f-a53a-9b5f5599d8d4",
   "metadata": {},
   "outputs": [],
   "source": []
  }
 ],
 "metadata": {
  "kernelspec": {
   "display_name": "Python 3 (ipykernel)",
   "language": "python",
   "name": "python3"
  },
  "language_info": {
   "codemirror_mode": {
    "name": "ipython",
    "version": 3
   },
   "file_extension": ".py",
   "mimetype": "text/x-python",
   "name": "python",
   "nbconvert_exporter": "python",
   "pygments_lexer": "ipython3",
   "version": "3.11.10"
  }
 },
 "nbformat": 4,
 "nbformat_minor": 5
}
