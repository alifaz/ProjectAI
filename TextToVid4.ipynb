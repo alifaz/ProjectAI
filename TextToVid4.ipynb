{
 "cells": [
  {
   "cell_type": "code",
   "execution_count": 1,
   "id": "bc8427ff-2f3e-47c3-8248-976efd16d286",
   "metadata": {},
   "outputs": [
    {
     "name": "stdout",
     "output_type": "stream",
     "text": [
      "Translated prompt: 'Tampilkan video dua ekor kucing sedang bermain di taman' → 'Show videos of two cats playing in the park'\n"
     ]
    },
    {
     "data": {
      "application/vnd.jupyter.widget-view+json": {
       "model_id": "89bcbb2236094f7890d40fc971c56ef2",
       "version_major": 2,
       "version_minor": 0
      },
      "text/plain": [
       "Loading pipeline components...:   0%|          | 0/5 [00:00<?, ?it/s]"
      ]
     },
     "metadata": {},
     "output_type": "display_data"
    },
    {
     "name": "stderr",
     "output_type": "stream",
     "text": [
      "The TextToVideoSDPipeline has been deprecated and will not receive bug fixes or feature updates after Diffusers version 0.33.1. \n"
     ]
    },
    {
     "data": {
      "application/vnd.jupyter.widget-view+json": {
       "model_id": "fc09ed98e48f49c68378e3649d9ca58a",
       "version_major": 2,
       "version_minor": 0
      },
      "text/plain": [
       "  0%|          | 0/25 [00:00<?, ?it/s]"
      ]
     },
     "metadata": {},
     "output_type": "display_data"
    },
    {
     "name": "stderr",
     "output_type": "stream",
     "text": [
      "Converting frames...: 100%|██████████| 1/1 [00:00<00:00,  8.65it/s]\n",
      "Resizing frames...: 100%|██████████| 96/96 [00:00<00:00, 8253.63it/s]\n",
      "Writing video with OpenCV...: 100%|██████████| 96/96 [00:00<00:00, 1127.37it/s]\n"
     ]
    },
    {
     "name": "stdout",
     "output_type": "stream",
     "text": [
      "\n",
      "✅ Video saved at: /home/alif_ahmad/work/Script/surfing.mp4\n"
     ]
    }
   ],
   "source": [
    "import torch\n",
    "from diffusers import DiffusionPipeline\n",
    "from PIL import Image\n",
    "from deep_translator import GoogleTranslator\n",
    "import numpy as np\n",
    "import cv2\n",
    "import os\n",
    "import gc\n",
    "from tqdm import tqdm\n",
    "\n",
    "# ============================== CONFIG ==============================\n",
    "\n",
    "MODEL_ID = \"damo-vilab/text-to-video-ms-1.7b\"\n",
    "NUM_FRAMES = 96\n",
    "FPS = 8\n",
    "GUIDANCE_SCALE = 10.0\n",
    "INFERENCE_STEPS = 25\n",
    "OUTPUT_FILENAME = \"surfing.mp4\"\n",
    "TARGET_LANGUAGE = 'en'\n",
    "\n",
    "# ============================ UTILITIES =============================\n",
    "\n",
    "def safe_image_list_from_array(arr):\n",
    "    \"\"\"Convert numpy arrays to a list of PIL Images in RGB mode.\"\"\"\n",
    "    arr = np.asarray(arr)\n",
    "    frames = []\n",
    "\n",
    "    if arr.ndim == 4 and arr.shape[-1] == 3:\n",
    "        for i in range(arr.shape[0]):\n",
    "            frame = arr[i]\n",
    "            if frame.dtype != np.uint8:\n",
    "                frame = (frame * 255).clip(0, 255).astype('uint8')\n",
    "            img = Image.fromarray(frame)\n",
    "            if img.mode != \"RGB\":\n",
    "                img = img.convert(\"RGB\")\n",
    "            frames.append(img)\n",
    "        return frames\n",
    "\n",
    "    elif arr.ndim == 3 and arr.shape[-1] == 3:\n",
    "        if arr.dtype != np.uint8:\n",
    "            arr = (arr * 255).clip(0, 255).astype('uint8')\n",
    "        img = Image.fromarray(arr)\n",
    "        if img.mode != \"RGB\":\n",
    "            img = img.convert(\"RGB\")\n",
    "        return [img]\n",
    "\n",
    "    else:\n",
    "        raise ValueError(f\"Frame shape not suitable for an image: {arr.shape}\")\n",
    "\n",
    "# ============================== MAIN ===============================\n",
    "\n",
    "def main():\n",
    "    prompt_text = \"Tampilkan video dua ekor kucing sedang bermain di taman\"\n",
    "\n",
    "    try:\n",
    "        # Translate prompt to English\n",
    "        prompt = GoogleTranslator(source='auto', target=TARGET_LANGUAGE).translate(prompt_text)\n",
    "        print(f\"Translated prompt: '{prompt_text}' → '{prompt}'\")\n",
    "\n",
    "        # Load model\n",
    "        pipe = DiffusionPipeline.from_pretrained(MODEL_ID, torch_dtype=torch.float16, variant=\"fp16\").to(\"cuda\")\n",
    "\n",
    "        # Run inference\n",
    "        with torch.inference_mode():\n",
    "            result = pipe(prompt=prompt,\n",
    "                          num_inference_steps=INFERENCE_STEPS,\n",
    "                          num_frames=NUM_FRAMES,\n",
    "                          guidance_scale=GUIDANCE_SCALE)\n",
    "\n",
    "        video_frames = result[\"frames\"]\n",
    "\n",
    "        # Convert all frames to RGB PIL images\n",
    "        frames_rgb = []\n",
    "        for frame in tqdm(video_frames, desc=\"Converting frames...\"):\n",
    "            if isinstance(frame, np.ndarray):\n",
    "                frames_rgb.extend(safe_image_list_from_array(frame))\n",
    "            else:\n",
    "                if frame.mode != \"RGB\":\n",
    "                    frame = frame.convert(\"RGB\")\n",
    "                frames_rgb.append(frame)\n",
    "\n",
    "        del result\n",
    "        torch.cuda.empty_cache()\n",
    "        gc.collect()\n",
    "\n",
    "        # Get dimensions from the first frame\n",
    "        first_frame = np.array(frames_rgb[0])\n",
    "        height, width, _ = first_frame.shape\n",
    "        frame_size = (width, height)\n",
    "\n",
    "        # Resize all frames to consistent dimensions\n",
    "        frames_rgb = [\n",
    "            frame.resize((width, height), Image.BICUBIC)\n",
    "            for frame in tqdm(frames_rgb, desc=\"Resizing frames...\")\n",
    "        ]\n",
    "\n",
    "        # Save video using OpenCV\n",
    "        fourcc = cv2.VideoWriter_fourcc(*'mp4v')\n",
    "        out = cv2.VideoWriter(OUTPUT_FILENAME, fourcc, FPS, frame_size)\n",
    "\n",
    "        for frame in tqdm(frames_rgb, desc=\"Writing video with OpenCV...\"):\n",
    "            frame_bgr = cv2.cvtColor(np.array(frame), cv2.COLOR_RGB2BGR)\n",
    "            out.write(frame_bgr)\n",
    "\n",
    "        out.release()\n",
    "        print(f\"\\n✅ Video saved at: {os.path.abspath(OUTPUT_FILENAME)}\")\n",
    "\n",
    "    except Exception as e:\n",
    "        print(f\"❌ Error: {e}\")\n",
    "\n",
    "    finally:\n",
    "        torch.cuda.empty_cache()\n",
    "        gc.collect()\n",
    "\n",
    "# ============================== ENTRY ==============================\n",
    "\n",
    "if __name__ == \"__main__\":\n",
    "    main()"
   ]
  },
  {
   "cell_type": "code",
   "execution_count": null,
   "id": "fd44ada0-7fdd-44da-8938-3acdef4fb1dc",
   "metadata": {},
   "outputs": [],
   "source": []
  }
 ],
 "metadata": {
  "kernelspec": {
   "display_name": "Python 3 (ipykernel)",
   "language": "python",
   "name": "python3"
  },
  "language_info": {
   "codemirror_mode": {
    "name": "ipython",
    "version": 3
   },
   "file_extension": ".py",
   "mimetype": "text/x-python",
   "name": "python",
   "nbconvert_exporter": "python",
   "pygments_lexer": "ipython3",
   "version": "3.11.10"
  }
 },
 "nbformat": 4,
 "nbformat_minor": 5
}
