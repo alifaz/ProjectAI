{
 "cells": [
  {
   "cell_type": "code",
   "execution_count": 10,
   "id": "8a460e18-fb9d-4fc2-951b-6fe4a4f4f7e5",
   "metadata": {},
   "outputs": [
    {
     "name": "stdout",
     "output_type": "stream",
     "text": [
      "Collecting deep_translator\n",
      "  Downloading deep_translator-1.11.4-py3-none-any.whl.metadata (30 kB)\n",
      "Requirement already satisfied: beautifulsoup4<5.0.0,>=4.9.1 in /opt/conda/lib/python3.11/site-packages (from deep_translator) (4.12.3)\n",
      "Requirement already satisfied: requests<3.0.0,>=2.23.0 in /opt/conda/lib/python3.11/site-packages (from deep_translator) (2.32.3)\n",
      "Requirement already satisfied: soupsieve>1.2 in /opt/conda/lib/python3.11/site-packages (from beautifulsoup4<5.0.0,>=4.9.1->deep_translator) (2.5)\n",
      "Requirement already satisfied: charset-normalizer<4,>=2 in /opt/conda/lib/python3.11/site-packages (from requests<3.0.0,>=2.23.0->deep_translator) (3.3.2)\n",
      "Requirement already satisfied: idna<4,>=2.5 in /opt/conda/lib/python3.11/site-packages (from requests<3.0.0,>=2.23.0->deep_translator) (3.10)\n",
      "Requirement already satisfied: urllib3<3,>=1.21.1 in /opt/conda/lib/python3.11/site-packages (from requests<3.0.0,>=2.23.0->deep_translator) (2.2.3)\n",
      "Requirement already satisfied: certifi>=2017.4.17 in /opt/conda/lib/python3.11/site-packages (from requests<3.0.0,>=2.23.0->deep_translator) (2024.8.30)\n",
      "Downloading deep_translator-1.11.4-py3-none-any.whl (42 kB)\n",
      "Installing collected packages: deep_translator\n",
      "Successfully installed deep_translator-1.11.4\n",
      "Note: you may need to restart the kernel to use updated packages.\n"
     ]
    }
   ],
   "source": [
    "pip install deep_translator"
   ]
  },
  {
   "cell_type": "code",
   "execution_count": 13,
   "id": "26948cec-0ed8-47df-9a2d-d3c9373c9bd8",
   "metadata": {},
   "outputs": [
    {
     "data": {
      "application/vnd.jupyter.widget-view+json": {
       "model_id": "493b5bd81bcb447a907a45bec4962cdf",
       "version_major": 2,
       "version_minor": 0
      },
      "text/plain": [
       "Loading pipeline components...:   0%|          | 0/7 [00:00<?, ?it/s]"
      ]
     },
     "metadata": {},
     "output_type": "display_data"
    },
    {
     "name": "stdout",
     "output_type": "stream",
     "text": [
      " Detected request for 4 image(s)\n",
      " Cleaned prompt: 'Make formula 1 car racing scenes with a large audience background, by approaching the real world'\n"
     ]
    },
    {
     "name": "stderr",
     "output_type": "stream",
     "text": [
      "Generating images:   0%|          | 0/4 [00:00<?, ?it/s]"
     ]
    },
    {
     "data": {
      "application/vnd.jupyter.widget-view+json": {
       "model_id": "670ea4b9c2b547a7a8c75c6080dd1300",
       "version_major": 2,
       "version_minor": 0
      },
      "text/plain": [
       "  0%|          | 0/40 [00:00<?, ?it/s]"
      ]
     },
     "metadata": {},
     "output_type": "display_data"
    },
    {
     "name": "stderr",
     "output_type": "stream",
     "text": [
      "Generating images:  25%|██▌       | 1/4 [00:01<00:04,  1.58s/it]"
     ]
    },
    {
     "data": {
      "application/vnd.jupyter.widget-view+json": {
       "model_id": "4e0120a08c854c518e10414f744f808c",
       "version_major": 2,
       "version_minor": 0
      },
      "text/plain": [
       "  0%|          | 0/40 [00:00<?, ?it/s]"
      ]
     },
     "metadata": {},
     "output_type": "display_data"
    },
    {
     "name": "stderr",
     "output_type": "stream",
     "text": [
      "Generating images:  50%|█████     | 2/4 [00:03<00:03,  1.52s/it]"
     ]
    },
    {
     "data": {
      "application/vnd.jupyter.widget-view+json": {
       "model_id": "e4a8680b086c435e92caf9156dab2dcc",
       "version_major": 2,
       "version_minor": 0
      },
      "text/plain": [
       "  0%|          | 0/40 [00:00<?, ?it/s]"
      ]
     },
     "metadata": {},
     "output_type": "display_data"
    },
    {
     "name": "stderr",
     "output_type": "stream",
     "text": [
      "Generating images:  75%|███████▌  | 3/4 [00:04<00:01,  1.54s/it]"
     ]
    },
    {
     "data": {
      "application/vnd.jupyter.widget-view+json": {
       "model_id": "6654814be6354cac90a73c52e7a8e41f",
       "version_major": 2,
       "version_minor": 0
      },
      "text/plain": [
       "  0%|          | 0/40 [00:00<?, ?it/s]"
      ]
     },
     "metadata": {},
     "output_type": "display_data"
    },
    {
     "name": "stderr",
     "output_type": "stream",
     "text": [
      "Generating images: 100%|██████████| 4/4 [00:06<00:00,  1.57s/it]\n"
     ]
    },
    {
     "name": "stdout",
     "output_type": "stream",
     "text": [
      "Saved grid to grid_1751949864.png\n"
     ]
    }
   ],
   "source": [
    "import re\n",
    "import time\n",
    "from tqdm import tqdm\n",
    "import torch\n",
    "from PIL import Image, ImageDraw, ImageOps\n",
    "from diffusers import DiffusionPipeline\n",
    "from deep_translator import GoogleTranslator\n",
    "\n",
    "# Load the model\n",
    "pipeline = DiffusionPipeline.from_pretrained(\"stable-diffusion-v1-5/stable-diffusion-v1-5\", torch_dtype=torch.float16).to(\"cuda\")\n",
    "pipeline.enable_attention_slicing()\n",
    "\n",
    "def extract_count_from_prompt(prompt, default=1, max_images=10):\n",
    "    match = re.search(r\"(?<!\\w)(\\d+)\\s+(image|images|pictures|photos|gambar|)\", prompt, re.IGNORECASE)\n",
    "    if match:\n",
    "        return min(int(match.group(1)), max_images)\n",
    "    return default\n",
    "\n",
    "def clean_prompt_text(prompt):\n",
    "    return re.sub(r\"(?<!\\w)(\\d+)\\s+(image|images|pictures|photos|gambar|)\\s+of\\s+\", \"\", prompt, flags=re.IGNORECASE).strip()\n",
    "\n",
    "def generate_images(prompt, negative_prompt, count=4, seed=123456789, steps=40, guidance=7.5):\n",
    "    images = []\n",
    "    for i in tqdm(range(count), desc=\"Generating images\"):\n",
    "        generator = torch.Generator(\"cuda\").manual_seed(seed + i)\n",
    "        result = pipeline(\n",
    "            prompt=prompt,\n",
    "            negative_prompt=negative_prompt,\n",
    "            generator=generator,\n",
    "            num_inference_steps=steps,\n",
    "            guidance_scale=guidance\n",
    "        )\n",
    "        images.append(result.images[0])\n",
    "    return images\n",
    "\n",
    "def make_grid(images, rows=None, cols=None, resize_to=256, border_width=2, border_color=\"black\", filename=None):\n",
    "    n = len(images)\n",
    "    if rows is None and cols is not None:\n",
    "        rows = (n + cols - 1) // cols\n",
    "    elif cols is None and rows is not None:\n",
    "        cols = (n + rows - 1) // rows\n",
    "    elif rows is None and cols is None:\n",
    "        cols = min(4, n)\n",
    "        rows = (n + cols - 1) // cols\n",
    "\n",
    "    images = [\n",
    "        ImageOps.expand(img.resize((resize_to, resize_to)), border=border_width, fill=border_color)\n",
    "        for img in images\n",
    "    ]\n",
    "\n",
    "    w, h = images[0].size\n",
    "    grid = Image.new(\"RGB\", (cols * w, rows * h), \"white\")\n",
    "\n",
    "    for idx, img in enumerate(images):\n",
    "        x = (idx % cols) * w\n",
    "        y = (idx // cols) * h\n",
    "        grid.paste(img, (x, y))\n",
    "\n",
    "    if filename is None:\n",
    "        filename = f\"grid_{int(time.time())}.png\"\n",
    "\n",
    "    grid.save(filename)\n",
    "    print(f\"Saved grid to {filename}\")\n",
    "    return grid\n",
    "\n",
    "def main():\n",
    "    # Prompt input — can be modified dynamically or used from CLI\n",
    "    prompt = \"Buatkan 4 gambar adegan balap mobil Formula 1 dengan latar belakang penonton yang ramai, buat dengan mendekati keadaan sesungguhnya di dunia nyata\"\n",
    "    seed = 123456789\n",
    "\n",
    "    prompt = GoogleTranslator(source='auto', target='en').translate(prompt)\n",
    "    \n",
    "    # Extract image count and clean prompt\n",
    "    num_images = extract_count_from_prompt(prompt, default=1)\n",
    "    clean_prompt = clean_prompt_text(prompt)\n",
    "\n",
    "    print(f\" Detected request for {num_images} image(s)\")\n",
    "    print(f\" Cleaned prompt: '{clean_prompt}'\")\n",
    "\n",
    "    # Generate images\n",
    "    images = generate_images(\n",
    "        prompt=clean_prompt,\n",
    "        negative_prompt=\"blurry, low quality, distorted, grainy\",\n",
    "        count=num_images,\n",
    "        seed=seed\n",
    "    )\n",
    "\n",
    "    # Build grid\n",
    "    cols = min(4, num_images)\n",
    "    rows = (num_images + cols - 1) // cols\n",
    "    make_grid(images, rows=rows, cols=cols, resize_to=512)\n",
    "\n",
    "if __name__ == \"__main__\":\n",
    "    main()"
   ]
  },
  {
   "cell_type": "code",
   "execution_count": 18,
   "id": "e26aa827-0af4-474a-8959-cbba6cddfdd0",
   "metadata": {},
   "outputs": [
    {
     "name": "stdout",
     "output_type": "stream",
     "text": [
      "Мы на полпути, живем на молитве. Возьми меня за руку, мы сделаем это, я клянусь\n"
     ]
    }
   ],
   "source": [
    "from deep_translator import GoogleTranslator\n",
    "\n",
    "text = \"We're halfway there, living on a prayer. Take my hand, we'll make it I swear\"\n",
    "translated_text = GoogleTranslator(source='auto', target='ru').translate(text=text)\n",
    "print(translated_text)"
   ]
  },
  {
   "cell_type": "code",
   "execution_count": null,
   "id": "f7512364-6fc7-4dbb-98f1-864fc7d885f7",
   "metadata": {},
   "outputs": [],
   "source": []
  }
 ],
 "metadata": {
  "kernelspec": {
   "display_name": "Python 3 (ipykernel)",
   "language": "python",
   "name": "python3"
  },
  "language_info": {
   "codemirror_mode": {
    "name": "ipython",
    "version": 3
   },
   "file_extension": ".py",
   "mimetype": "text/x-python",
   "name": "python",
   "nbconvert_exporter": "python",
   "pygments_lexer": "ipython3",
   "version": "3.11.10"
  }
 },
 "nbformat": 4,
 "nbformat_minor": 5
}
